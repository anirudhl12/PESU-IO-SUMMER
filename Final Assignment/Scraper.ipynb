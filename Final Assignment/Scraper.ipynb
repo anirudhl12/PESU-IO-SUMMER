{
 "cells": [
  {
   "cell_type": "code",
   "execution_count": 10,
   "metadata": {},
   "outputs": [],
   "source": [
    "import bs4 as bs\n",
    "import lxml\n",
    "import urllib.request\n",
    "\n",
    "data = urllib.request.urlopen('https://karki23.github.io/Weather-Data/assignment.html').read()\n",
    "\n",
    "srccode = bs.BeautifulSoup( data, 'lxml')\n",
    "str1 = []\n",
    "all_lines = srccode.find_all('li')\n",
    "for i in all_lines:\n",
    "    s = \"\".join(i.text.split())\n",
    "    str1.append( 'https://karki23.github.io/Weather-Data/' + s + '.html' ) \n",
    "for i in str1:\n",
    "    d2 = urllib.request.urlopen(i).read()\n",
    "    srccode1 = bs.BeautifulSoup( d2, lxml )\n",
    "    tables = srccode1.find_all('table')\n",
    "    for row in tables:\n",
    "        tr = row.find_all('tr')\n",
    "        row_data = [ i.text for i in tr ]\n",
    "        print( row_data )\n",
    "        print('\\n\\n\\n')\n"
   ]
  },
  {
   "cell_type": "code",
   "execution_count": null,
   "metadata": {},
   "outputs": [],
   "source": []
  },
  {
   "cell_type": "code",
   "execution_count": null,
   "metadata": {},
   "outputs": [],
   "source": []
  }
 ],
 "metadata": {
  "kernelspec": {
   "display_name": "Python 3",
   "language": "python",
   "name": "python3"
  },
  "language_info": {
   "codemirror_mode": {
    "name": "ipython",
    "version": 3
   },
   "file_extension": ".py",
   "mimetype": "text/x-python",
   "name": "python",
   "nbconvert_exporter": "python",
   "pygments_lexer": "ipython3",
   "version": "3.7.3"
  }
 },
 "nbformat": 4,
 "nbformat_minor": 2
}
